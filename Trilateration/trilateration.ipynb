{
 "cells": [
  {
   "cell_type": "code",
   "execution_count": 1,
   "metadata": {},
   "outputs": [
    {
     "data": {
      "image/png": "[encoded data removed]",
      "text/plain": [
       "<Figure size 432x288 with 1 Axes>"
      ]
     },
     "metadata": {
      "needs_background": "light"
     },
     "output_type": "display_data"
    }
   ],
   "source": [
    "from easy_trilateration.model import *  \n",
    "from easy_trilateration.least_squares import easy_least_squares  \n",
    "from easy_trilateration.graph import *  \n",
    "import pandas as pd\n",
    "\n",
    "FILEDATE = '2021_12_02_12_08_59'\n",
    "NUM_OF_ANCHORS = 4"
   ]
  },
  {
   "cell_type": "code",
   "execution_count": 2,
   "metadata": {},
   "outputs": [
    {
     "data": {
      "image/png": "[encoded data removed]",
      "text/plain": [
       "<Figure size 432x288 with 1 Axes>"
      ]
     },
     "metadata": {
      "needs_background": "light"
     },
     "output_type": "display_data"
    }
   ],
   "source": [
    "arr = [Circle(x=100, y=100, r=50),  \n",
    "Circle(x=100, y=50, r=50),  \n",
    "Circle(x=50, y=50, r=50),  \n",
    "Circle(x=50, y=100, r=50)]  \n",
    "result, meta = easy_least_squares(arr)  \n",
    "create_circle(result, target=True)  \n",
    "draw(arr)\n",
    "# print(result, meta)"
   ]
  },
  {
   "cell_type": "code",
   "execution_count": 3,
   "metadata": {},
   "outputs": [
    {
     "name": "stdout",
     "output_type": "stream",
     "text": [
      "     year  month  day  hour  min  sec    ms    anchor     distance  \\\n",
      "0    2021     11   29    15   22   36  5180  ANCHOR_0          nil   \n",
      "1    2021     11   29    15   22   36  5610  ANCHOR_0          nil   \n",
      "2    2021     11   29    15   22   36  7610  ANCHOR_0          nil   \n",
      "3    2021     11   29    15   22   36  9610  ANCHOR_0    1.6113845   \n",
      "4    2021     11   29    15   22   37  1610  ANCHOR_0    1.6626489   \n",
      "..    ...    ...  ...   ...  ...  ...   ...       ...          ...   \n",
      "628  2021     11   29    15   23   12  9590  ANCHOR_0   0.93685144   \n",
      "629  2021     11   29    15   23   13  1590  ANCHOR_2     7.218403   \n",
      "630  2021     11   29    15   23   13  1590  ANCHOR_1    5.0449076   \n",
      "631  2021     11   29    15   23   13  1590  ANCHOR_3    3.8223538   \n",
      "632  2021     11   29    15   23   13  1590  ANCHOR_0   0.93685144   \n",
      "\n",
      "            dirX           dirY          dirZ  \n",
      "0            nil            nil           nil  \n",
      "1            nil            nil           nil  \n",
      "2            nil            nil           nil  \n",
      "3            nil            nil           nil  \n",
      "4            nil            nil           nil  \n",
      "..           ...            ...           ...  \n",
      "628   0.79530245     0.21114944   -0.56825155  \n",
      "629   0.78654337     -0.2566152   -0.56169224  \n",
      "630   -0.7982241   -0.048680976   -0.60039026  \n",
      "631   0.67603683    -0.08011616    -0.7324996  \n",
      "632   0.79530245     0.21114944   -0.56825155  \n",
      "\n",
      "[633 rows x 12 columns]\n"
     ]
    }
   ],
   "source": [
    "### REAL DATA\n",
    "data = pd.read_csv('./uwb_data_multiple/' + FILEDATE + '.csv')\n",
    "### FAKE DATA\n",
    "# data = pd.read_csv('C:/Users/user/Documents/CRC2/trilateration/uwb_data_example/straight.csv')\n",
    "# data = pd.read_csv('C:/Users/user/Documents/CRC2/trilateration/uwb_data_example/circle.csv')\n",
    "print(data)"
   ]
  },
  {
   "cell_type": "code",
   "execution_count": 4,
   "metadata": {},
   "outputs": [],
   "source": [
    "def is_same_time(data1, data2):\n",
    "    return data1[['hour', 'min', 'sec', 'ms']].equals(data2[['hour', 'min', 'sec', 'ms']])\n",
    "    \n",
    "def is_dist_valid(data):\n",
    "    return data['distance'][0] != 'nil' and data['distance'][0] != ' nil'\n",
    "\n",
    "def getAnchorNum(data):\n",
    "    anchor_name = data['anchor'][0]\n",
    "    anchor_num = int(anchor_name[-1])\n",
    "    return anchor_num"
   ]
  },
  {
   "cell_type": "code",
   "execution_count": 5,
   "metadata": {},
   "outputs": [],
   "source": [
    "# nodes: [(x1, y1), ... ]\n",
    "anchors = [_ for _ in range(NUM_OF_ANCHORS)] \n",
    "\n",
    "def setAnchor(anchor_number, x, y):\n",
    "    anchors[anchor_number] = (x, y)\n",
    "    return"
   ]
  },
  {
   "cell_type": "code",
   "execution_count": 6,
   "metadata": {},
   "outputs": [],
   "source": [
    "coord_x = []\n",
    "coord_y = []\n",
    "\n",
    "def getIntersectionPoint(anchor_and_dist):\n",
    "    arr = []\n",
    "    for (anchor, dist) in anchor_and_dist:\n",
    "        x, y = anchors[anchor]\n",
    "        arr.append(Circle(x, y, dist))\n",
    "\n",
    "    result, meta = easy_least_squares(arr)  \n",
    "    coord_x.append(result.center.x)\n",
    "    coord_y.append(result.center.y)\n"
   ]
  },
  {
   "cell_type": "code",
   "execution_count": 7,
   "metadata": {},
   "outputs": [
    {
     "name": "stdout",
     "output_type": "stream",
     "text": [
      "21 439 303 633\n"
     ]
    }
   ],
   "source": [
    "##### REAL DATA #####\n",
    "setAnchor(anchor_number=0, x=0, y=0)\n",
    "setAnchor(anchor_number=1, x=3.84, y=0)\n",
    "setAnchor(anchor_number=2, x=3.51, y=5.61)\n",
    "setAnchor(anchor_number=3, x=0, y=5.52)\n",
    "\n",
    "tmp_data_arr = []\n",
    "\n",
    "# for data size check\n",
    "dist_not_valid = 0\n",
    "time_valid_data = 0\n",
    "valid_data = 0\n",
    "\n",
    "for i in range(data.shape[0]):\n",
    "    data0 = data[i:i+1].reset_index(drop=True)\n",
    "    \n",
    "    if not is_dist_valid(data0):\n",
    "        dist_not_valid += 1\n",
    "        pass\n",
    "\n",
    "    if (len(tmp_data_arr)==0 or is_same_time(data0, tmp_data_arr[-1])) and is_dist_valid(data0):\n",
    "        time_valid_data += 1\n",
    "        tmp_data_arr.append(data0)\n",
    "    \n",
    "    elif len(tmp_data_arr) > 2:\n",
    "        # print(tmp_data_arr)\n",
    "        valid_data += len(tmp_data_arr)\n",
    "\n",
    "        arr = []\n",
    "        for tmp in tmp_data_arr:\n",
    "            anchor_num = getAnchorNum(tmp)\n",
    "            dist = float(tmp['distance'][0])\n",
    "            \n",
    "            arr.append((anchor_num, dist))\n",
    "\n",
    "        # print(arr)\n",
    "        getIntersectionPoint(arr)\n",
    "    \n",
    "        tmp_data_arr = []\n",
    "        \n",
    "    else:\n",
    "        tmp_data_arr = []\n",
    "\n",
    "print(dist_not_valid, time_valid_data, valid_data, data.shape[0])"
   ]
  },
  {
   "cell_type": "code",
   "execution_count": 9,
   "metadata": {},
   "outputs": [
    {
     "data": {
      "image/png": "[encoded data removed]",
      "text/plain": [
       "<Figure size 432x288 with 1 Axes>"
      ]
     },
     "metadata": {
      "needs_background": "light"
     },
     "output_type": "display_data"
    }
   ],
   "source": [
    "import matplotlib.pyplot as plt\n",
    "\n",
    "fig = plt.figure()\n",
    "ax = plt.axes()\n",
    "\n",
    "x = coord_x\n",
    "y = coord_y\n",
    "\n",
    "ax.plot(x, y, marker='o')\n",
    "# plt.title('Trajectory')\n",
    "\n",
    "# plot anchors\n",
    "for x, y in anchors:\n",
    "    ax.plot(x, y, color= '#e35f62', marker='o')\n",
    "\n",
    "plt.show()"
   ]
  }
 ],
 "metadata": {
  "interpreter": {
   "hash": "38d51dd8e8d25c2b4859ddf5fde4d8615b38902fd48d30a19bf46ddb81d406a6"
  },
  "kernelspec": {
   "display_name": "Python 3.9.9 64-bit (windows store)",
   "language": "python",
   "name": "python3"
  },
  "language_info": {
   "codemirror_mode": {
    "name": "ipython",
    "version": 3
   },
   "file_extension": ".py",
   "mimetype": "text/x-python",
   "name": "python",
   "nbconvert_exporter": "python",
   "pygments_lexer": "ipython3",
   "version": "3.9.9"
  },
  "orig_nbformat": 4
 },
 "nbformat": 4,
 "nbformat_minor": 2
}
