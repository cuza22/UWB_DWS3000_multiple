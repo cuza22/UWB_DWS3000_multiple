{
 "cells": [
  {
   "cell_type": "code",
   "execution_count": 129,
   "metadata": {},
   "outputs": [],
   "source": [
    "from easy_trilateration.model import *  \n",
    "from easy_trilateration.least_squares import easy_least_squares  \n",
    "from easy_trilateration.graph import *  \n",
    "import pandas as pd\n",
    "\n",
    "FILEDATE = '2021_12_30_01_26_38'\n",
    "NUM_OF_ANCHORS = 10\n",
    "ROUTE_NUM = '2'"
   ]
  },
  {
   "cell_type": "code",
   "execution_count": 130,
   "metadata": {},
   "outputs": [
    {
     "data": {
      "image/png": "[encoded data removed]",
      "text/plain": [
       "<Figure size 432x288 with 1 Axes>"
      ]
     },
     "metadata": {
      "needs_background": "light"
     },
     "output_type": "display_data"
    }
   ],
   "source": [
    "arr = [Circle(x=100, y=100, r=50),  \n",
    "Circle(x=100, y=50, r=50),  \n",
    "Circle(x=50, y=50, r=50),  \n",
    "Circle(x=50, y=100, r=50)]  \n",
    "result, meta = easy_least_squares(arr)  \n",
    "create_circle(result, target=True)  \n",
    "draw(arr)\n",
    "# print(result, meta)"
   ]
  },
  {
   "cell_type": "code",
   "execution_count": 131,
   "metadata": {},
   "outputs": [
    {
     "name": "stdout",
     "output_type": "stream",
     "text": [
      "      year  month  day  hour  min  sec    ms    anchor    distance  \\\n",
      "0     2021     12   30     1   26   44  4730  ANCHOR_6         nil   \n",
      "1     2021     12   30     1   26   44  6520  ANCHOR_6         nil   \n",
      "2     2021     12   30     1   26   44  8520  ANCHOR_6   1.7331002   \n",
      "3     2021     12   30     1   26   45   520  ANCHOR_6   1.4240142   \n",
      "4     2021     12   30     1   26   45  2520  ANCHOR_6    1.564317   \n",
      "...    ...    ...  ...   ...  ...  ...   ...       ...         ...   \n",
      "1106  2021     12   30     1   27   21  8520  ANCHOR_7   6.6092243   \n",
      "1107  2021     12   30     1   27   21  8520  ANCHOR_2         nil   \n",
      "1108  2021     12   30     1   27   21  8520  ANCHOR_0     7.41027   \n",
      "1109  2021     12   30     1   27   21  8520  ANCHOR_4         nil   \n",
      "1110  2021     12   30     1   27   21  8520  ANCHOR_5   3.6068032   \n",
      "\n",
      "              dirX         dirY         dirZ  \n",
      "0              nil          nil          nil  \n",
      "1              nil          nil          nil  \n",
      "2              nil          nil          nil  \n",
      "3              nil          nil          nil  \n",
      "4              nil          nil          nil  \n",
      "...            ...          ...          ...  \n",
      "1106    0.70371777   0.50943017   -0.4952396  \n",
      "1107           nil          nil          nil  \n",
      "1108   -0.79761845   -0.2741839   -0.5372411  \n",
      "1109           nil          nil          nil  \n",
      "1110    -0.3652641   0.40177616   -0.8397369  \n",
      "\n",
      "[1111 rows x 12 columns]\n"
     ]
    }
   ],
   "source": [
    "### REAL DATA\n",
    "data = pd.read_csv('./uwb_data_multiple/' + FILEDATE + '.csv')\n",
    "### FAKE DATA\n",
    "# data = pd.read_csv('C:/Users/user/Documents/CRC2/trilateration/uwb_data_example/straight.csv')\n",
    "# data = pd.read_csv('C:/Users/user/Documents/CRC2/trilateration/uwb_data_example/circle.csv')\n",
    "print(data)"
   ]
  },
  {
   "cell_type": "code",
   "execution_count": 132,
   "metadata": {},
   "outputs": [],
   "source": [
    "def is_same_time(data1, data2):\n",
    "    return data1[['hour', 'min', 'sec', 'ms']].equals(data2[['hour', 'min', 'sec', 'ms']])\n",
    "    \n",
    "def is_dist_valid(data):\n",
    "    return data['distance'][0] != 'nil' and data['distance'][0] != ' nil'\n",
    "\n",
    "def getAnchorNum(data):\n",
    "    anchor_name = data['anchor'][0]\n",
    "    anchor_num = int(anchor_name[-1])\n",
    "    return anchor_num"
   ]
  },
  {
   "cell_type": "code",
   "execution_count": 133,
   "metadata": {},
   "outputs": [],
   "source": [
    "# nodes: [(x1, y1), ... ]\n",
    "anchors = [_ for _ in range(NUM_OF_ANCHORS)] \n",
    "\n",
    "def setAnchor(anchor_number, x, y):\n",
    "    anchors[anchor_number] = (x, y)\n",
    "    return"
   ]
  },
  {
   "cell_type": "code",
   "execution_count": 134,
   "metadata": {},
   "outputs": [],
   "source": [
    "coord_x = []\n",
    "coord_y = []\n",
    "\n",
    "def getIntersectionPoint(anchor_and_dist):\n",
    "    arr = []\n",
    "    for (anchor, dist) in anchor_and_dist:\n",
    "        x, y = anchors[anchor]\n",
    "        arr.append(Circle(x, y, dist))\n",
    "\n",
    "    result, meta = easy_least_squares(arr)  \n",
    "    coord_x.append(result.center.x)\n",
    "    coord_y.append(result.center.y)\n"
   ]
  },
  {
   "cell_type": "code",
   "execution_count": 135,
   "metadata": {},
   "outputs": [
    {
     "name": "stdout",
     "output_type": "stream",
     "text": [
      "no dist, valid, total\n",
      "308 766 1111\n"
     ]
    }
   ],
   "source": [
    "##### REAL DATA #####\n",
    "setAnchor(anchor_number=0, x=0, y=5.5)\n",
    "setAnchor(anchor_number=1, x=3, y=10.15)\n",
    "setAnchor(anchor_number=2, x=2.55, y=6.15)\n",
    "setAnchor(anchor_number=3, x=4.2, y=6.15)\n",
    "setAnchor(anchor_number=4, x=0, y=3.1)\n",
    "setAnchor(anchor_number=5, x=2.55, y=3.1)\n",
    "setAnchor(anchor_number=6, x=4.2, y=3.1)\n",
    "setAnchor(anchor_number=7, x=0, y=0)\n",
    "setAnchor(anchor_number=8, x=2.55, y=0)\n",
    "setAnchor(anchor_number=9, x=4.2, y=0)\n",
    "\n",
    "circle_data_arr = []\n",
    "\n",
    "# for data size check\n",
    "dist_not_valid = 0\n",
    "valid_data = 0\n",
    "\n",
    "for i in range(data.shape[0]):\n",
    "    data0 = data[i:i+1].reset_index(drop=True) # new data line\n",
    "    \n",
    "    # (1) check whether the new line has same time with previous one\n",
    "    #       -> if same, add to circle array\n",
    "    #       -> if not, check circle array length and get position or initialize it\n",
    "    # (2) check distance validity -> if not, continue\n",
    "    if not is_dist_valid(data0):\n",
    "        dist_not_valid += 1\n",
    "        continue\n",
    "\n",
    "    if (len(circle_data_arr)==0 or is_same_time(data0, circle_data_arr[-1])):# and is_dist_valid(data0):\n",
    "        circle_data_arr.append(data0)\n",
    "    \n",
    "    else:\n",
    "        if len(circle_data_arr) > 2:\n",
    "            # print(circle_data_arr)\n",
    "            valid_data += len(circle_data_arr)\n",
    "\n",
    "            arr = []\n",
    "            for tmp in circle_data_arr:\n",
    "                anchor_num = getAnchorNum(tmp)\n",
    "                dist = float(tmp['distance'][0])\n",
    "                \n",
    "                arr.append((anchor_num, dist))\n",
    "\n",
    "            # print(arr)\n",
    "            getIntersectionPoint(arr)\n",
    "\n",
    "        circle_data_arr = [data0]\n",
    "        \n",
    "\n",
    "print('no dist, valid, total')\n",
    "print(dist_not_valid, valid_data, data.shape[0])"
   ]
  },
  {
   "cell_type": "code",
   "execution_count": 138,
   "metadata": {},
   "outputs": [],
   "source": [
    "route_1 = [(5.15, 4.7), (2.9, 4.7), (0.75, 4.7), (0.75, 7.1), (0.75, 8), (3, 8), (3.9, 8)]\n",
    "route_2 = [(5.15, 4.7), (2.9, 4.7), (0.75, 4.7), (0.75, 2.45), (0.75, 1.55), (3, 1.55), (5.15, 1.55)]\n",
    "route = {'NONE':[], 1: route_1, 2: route_2}\n",
    "\n",
    "route_x = []\n",
    "route_y = []\n",
    "\n",
    "for x, y in route[ROUTE_NUM]: \n",
    "    route_x.append(x)\n",
    "    route_y.append(y)"
   ]
  },
  {
   "cell_type": "code",
   "execution_count": 137,
   "metadata": {},
   "outputs": [
    {
     "data": {
      "image/png": "[encoded data removed]",
      "text/plain": [
       "<Figure size 432x288 with 1 Axes>"
      ]
     },
     "metadata": {
      "needs_background": "light"
     },
     "output_type": "display_data"
    }
   ],
   "source": [
    "import matplotlib.pyplot as plt\n",
    "\n",
    "fig = plt.figure()\n",
    "ax = plt.axes()\n",
    "plt.xlim(-0.3, 5.6)\n",
    "plt.ylim(-0.3, 10.35)\n",
    "plt.gca().set_aspect('equal')\n",
    "\n",
    "# title\n",
    "plt.title(FILEDATE)\n",
    "\n",
    "# plot anchors\n",
    "for x, y in anchors:\n",
    "    ax.plot(x, y, color= '#e35f62', marker='o')\n",
    "\n",
    "# plot route\n",
    "ax.plot(route_x, route_y, color='black', marker='*')\n",
    "\n",
    "# plot real data\n",
    "ax.plot(coord_x, coord_y, marker='.')\n",
    "\n",
    "plt.show()"
   ]
  }
 ],
 "metadata": {
  "interpreter": {
   "hash": "38d51dd8e8d25c2b4859ddf5fde4d8615b38902fd48d30a19bf46ddb81d406a6"
  },
  "kernelspec": {
   "display_name": "Python 3.9.9 64-bit (windows store)",
   "language": "python",
   "name": "python3"
  },
  "language_info": {
   "codemirror_mode": {
    "name": "ipython",
    "version": 3
   },
   "file_extension": ".py",
   "mimetype": "text/x-python",
   "name": "python",
   "nbconvert_exporter": "python",
   "pygments_lexer": "ipython3",
   "version": "3.9.9"
  },
  "orig_nbformat": 4
 },
 "nbformat": 4,
 "nbformat_minor": 2
}
