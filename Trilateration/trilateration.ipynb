{
 "cells": [
  {
   "cell_type": "code",
   "execution_count": 202,
   "metadata": {},
   "outputs": [],
   "source": [
    "from easy_trilateration.model import *  \n",
    "from easy_trilateration.least_squares import easy_least_squares  \n",
    "from easy_trilateration.graph import *  \n",
    "import pandas as pd\n",
    "\n",
    "FILEDATE = '2021_12_30_02_01_53'\n",
    "NUM_OF_ANCHORS = 10"
   ]
  },
  {
   "cell_type": "code",
   "execution_count": 203,
   "metadata": {},
   "outputs": [
    {
     "data": {
      "image/png": "[encoded data removed]",
      "text/plain": [
       "<Figure size 432x288 with 1 Axes>"
      ]
     },
     "metadata": {
      "needs_background": "light"
     },
     "output_type": "display_data"
    }
   ],
   "source": [
    "arr = [Circle(x=100, y=100, r=50),  \n",
    "Circle(x=100, y=50, r=50),  \n",
    "Circle(x=50, y=50, r=50),  \n",
    "Circle(x=50, y=100, r=50)]  \n",
    "result, meta = easy_least_squares(arr)  \n",
    "create_circle(result, target=True)  \n",
    "draw(arr)\n",
    "# print(result, meta)"
   ]
  },
  {
   "cell_type": "code",
   "execution_count": 204,
   "metadata": {},
   "outputs": [
    {
     "name": "stdout",
     "output_type": "stream",
     "text": [
      "      year  month  day  hour  min  sec    ms    anchor    distance  \\\n",
      "0     2021     12   30     2    1   56  7450  ANCHOR_6         nil   \n",
      "1     2021     12   30     2    1   56  8760  ANCHOR_6         nil   \n",
      "2     2021     12   30     2    1   57   760  ANCHOR_6   1.9813284   \n",
      "3     2021     12   30     2    1   57  2760  ANCHOR_6   1.5739104   \n",
      "4     2021     12   30     2    1   57  4760  ANCHOR_6   1.7516873   \n",
      "...    ...    ...  ...   ...  ...  ...   ...       ...         ...   \n",
      "1008  2021     12   30     2    2   32  6770  ANCHOR_5   3.1571143   \n",
      "1009  2021     12   30     2    2   32  6770  ANCHOR_2    5.269752   \n",
      "1010  2021     12   30     2    2   32  6770  ANCHOR_0    6.098678   \n",
      "1011  2021     12   30     2    2   32  6770  ANCHOR_8    3.222769   \n",
      "1012  2021     12   30     2    2   32  6770  ANCHOR_7         nil   \n",
      "\n",
      "             dirX         dirY          dirZ  \n",
      "0             nil          nil           nil  \n",
      "1             nil          nil           nil  \n",
      "2             nil          nil           nil  \n",
      "3             nil          nil           nil  \n",
      "4             nil          nil           nil  \n",
      "...           ...          ...           ...  \n",
      "1008   -0.2657449    0.6716332   -0.69158405  \n",
      "1009    0.7260362   0.43532336    -0.5323204  \n",
      "1010   0.68432206    0.5466807    -0.4825387  \n",
      "1011    0.6532373   0.44580942    -0.6119927  \n",
      "1012          nil          nil           nil  \n",
      "\n",
      "[1013 rows x 12 columns]\n"
     ]
    }
   ],
   "source": [
    "### REAL DATA\n",
    "data = pd.read_csv('./uwb_data_multiple/' + FILEDATE + '.csv')\n",
    "### FAKE DATA\n",
    "# data = pd.read_csv('C:/Users/user/Documents/CRC2/trilateration/uwb_data_example/straight.csv')\n",
    "# data = pd.read_csv('C:/Users/user/Documents/CRC2/trilateration/uwb_data_example/circle.csv')\n",
    "print(data)"
   ]
  },
  {
   "cell_type": "code",
   "execution_count": 205,
   "metadata": {},
   "outputs": [],
   "source": [
    "def is_same_time(data1, data2):\n",
    "    return data1[['hour', 'min', 'sec', 'ms']].equals(data2[['hour', 'min', 'sec', 'ms']])\n",
    "    \n",
    "def is_dist_valid(data):\n",
    "    return data['distance'][0] != 'nil' and data['distance'][0] != ' nil'\n",
    "\n",
    "def getAnchorNum(data):\n",
    "    anchor_name = data['anchor'][0]\n",
    "    anchor_num = int(anchor_name[-1])\n",
    "    return anchor_num"
   ]
  },
  {
   "cell_type": "code",
   "execution_count": 206,
   "metadata": {},
   "outputs": [],
   "source": [
    "# nodes: [(x1, y1), ... ]\n",
    "anchors = [_ for _ in range(NUM_OF_ANCHORS)] \n",
    "\n",
    "def setAnchor(anchor_number, x, y):\n",
    "    anchors[anchor_number] = (x, y)\n",
    "    return"
   ]
  },
  {
   "cell_type": "code",
   "execution_count": 207,
   "metadata": {},
   "outputs": [],
   "source": [
    "coord_x = []\n",
    "coord_y = []\n",
    "\n",
    "def getIntersectionPoint(anchor_and_dist):\n",
    "    arr = []\n",
    "    for (anchor, dist) in anchor_and_dist:\n",
    "        x, y = anchors[anchor]\n",
    "        arr.append(Circle(x, y, dist))\n",
    "\n",
    "    result, meta = easy_least_squares(arr)  \n",
    "    coord_x.append(result.center.x)\n",
    "    coord_y.append(result.center.y)\n"
   ]
  },
  {
   "cell_type": "code",
   "execution_count": 208,
   "metadata": {},
   "outputs": [
    {
     "name": "stdout",
     "output_type": "stream",
     "text": [
      "no dist, valid, total\n",
      "149 828 1013\n"
     ]
    }
   ],
   "source": [
    "##### REAL DATA #####\n",
    "setAnchor(anchor_number=0, x=0, y=5.5)\n",
    "setAnchor(anchor_number=1, x=3, y=10.15)\n",
    "setAnchor(anchor_number=2, x=2.55, y=6.15)\n",
    "setAnchor(anchor_number=3, x=4.2, y=6.15)\n",
    "setAnchor(anchor_number=4, x=0, y=3.1)\n",
    "setAnchor(anchor_number=5, x=2.55, y=3.1)\n",
    "setAnchor(anchor_number=6, x=4.2, y=3.1)\n",
    "setAnchor(anchor_number=7, x=0, y=0)\n",
    "setAnchor(anchor_number=8, x=2.55, y=0)\n",
    "setAnchor(anchor_number=9, x=4.2, y=0)\n",
    "\n",
    "circle_data_arr = []\n",
    "\n",
    "# for data size check\n",
    "dist_not_valid = 0\n",
    "valid_data = 0\n",
    "\n",
    "for i in range(data.shape[0]):\n",
    "    data0 = data[i:i+1].reset_index(drop=True) # new data line\n",
    "    \n",
    "    # (1) check whether the new line has same time with previous one\n",
    "    #       -> if same, add to circle array\n",
    "    #       -> if not, check circle array length and get position or initialize it\n",
    "    # (2) check distance validity -> if not, continue\n",
    "    if not is_dist_valid(data0):\n",
    "        dist_not_valid += 1\n",
    "        continue\n",
    "\n",
    "    if (len(circle_data_arr)==0 or is_same_time(data0, circle_data_arr[-1])):# and is_dist_valid(data0):\n",
    "        circle_data_arr.append(data0)\n",
    "    \n",
    "    else:\n",
    "        if len(circle_data_arr) > 2:\n",
    "            # print(circle_data_arr)\n",
    "            valid_data += len(circle_data_arr)\n",
    "\n",
    "            arr = []\n",
    "            for tmp in circle_data_arr:\n",
    "                anchor_num = getAnchorNum(tmp)\n",
    "                dist = float(tmp['distance'][0])\n",
    "                \n",
    "                arr.append((anchor_num, dist))\n",
    "\n",
    "            # print(arr)\n",
    "            getIntersectionPoint(arr)\n",
    "\n",
    "        circle_data_arr = [data0]\n",
    "        \n",
    "\n",
    "print('no dist, valid, total')\n",
    "print(dist_not_valid, valid_data, data.shape[0])"
   ]
  },
  {
   "cell_type": "code",
   "execution_count": 211,
   "metadata": {},
   "outputs": [
    {
     "data": {
      "image/png": "[encoded data removed]",
      "text/plain": [
       "<Figure size 432x288 with 1 Axes>"
      ]
     },
     "metadata": {
      "needs_background": "light"
     },
     "output_type": "display_data"
    }
   ],
   "source": [
    "import matplotlib.pyplot as plt\n",
    "\n",
    "fig = plt.figure()\n",
    "ax = plt.axes()\n",
    "ax.axis('equal')\n",
    "# ax.axis.set(xlim=(-0.3, 5), ylim=(-0.3, 10.35))\n",
    "plt.xlim(-0.3, 5)\n",
    "plt.ylim(-0.3, 10.35)\n",
    "\n",
    "x = coord_x\n",
    "y = coord_y\n",
    "\n",
    "ax.plot(x, y, marker='o')\n",
    "plt.title(FILEDATE)\n",
    "\n",
    "# plot anchors\n",
    "for x, y in anchors:\n",
    "    ax.plot(x, y, color= '#e35f62', marker='o')\n",
    "\n",
    "plt.show()"
   ]
  }
 ],
 "metadata": {
  "interpreter": {
   "hash": "38d51dd8e8d25c2b4859ddf5fde4d8615b38902fd48d30a19bf46ddb81d406a6"
  },
  "kernelspec": {
   "display_name": "Python 3.9.9 64-bit (windows store)",
   "language": "python",
   "name": "python3"
  },
  "language_info": {
   "codemirror_mode": {
    "name": "ipython",
    "version": 3
   },
   "file_extension": ".py",
   "mimetype": "text/x-python",
   "name": "python",
   "nbconvert_exporter": "python",
   "pygments_lexer": "ipython3",
   "version": "3.9.9"
  },
  "orig_nbformat": 4
 },
 "nbformat": 4,
 "nbformat_minor": 2
}
